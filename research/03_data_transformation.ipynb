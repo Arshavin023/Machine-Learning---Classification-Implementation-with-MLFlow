{
 "cells": [
  {
   "cell_type": "code",
   "execution_count": 2,
   "metadata": {},
   "outputs": [],
   "source": [
    "import os\n",
    "from pathlib import Path"
   ]
  },
  {
   "cell_type": "code",
   "execution_count": 3,
   "metadata": {},
   "outputs": [
    {
     "data": {
      "text/plain": [
       "'c:\\\\Users\\\\Hp\\\\Videos\\\\classification implementation - machine learning with MLFlow\\\\research'"
      ]
     },
     "execution_count": 3,
     "metadata": {},
     "output_type": "execute_result"
    }
   ],
   "source": [
    "%pwd"
   ]
  },
  {
   "cell_type": "code",
   "execution_count": 4,
   "metadata": {},
   "outputs": [],
   "source": [
    "os.chdir('../')"
   ]
  },
  {
   "cell_type": "code",
   "execution_count": 5,
   "metadata": {},
   "outputs": [
    {
     "data": {
      "text/plain": [
       "'c:\\\\Users\\\\Hp\\\\Videos\\\\classification implementation - machine learning with MLFlow'"
      ]
     },
     "execution_count": 5,
     "metadata": {},
     "output_type": "execute_result"
    }
   ],
   "source": [
    "%pwd"
   ]
  },
  {
   "cell_type": "code",
   "execution_count": 5,
   "metadata": {},
   "outputs": [],
   "source": [
    "# Schema validation class\n",
    "from dataclasses import dataclass\n",
    "from pathlib import Path \n",
    "\n",
    "@dataclass(frozen=True)\n",
    "class DataTransformationConfig:\n",
    "    root_dir: Path\n",
    "    data_path: Path "
   ]
  },
  {
   "cell_type": "code",
   "execution_count": 6,
   "metadata": {},
   "outputs": [],
   "source": [
    "from mlProject.constants import *\n",
    "from mlProject.utils.common import read_yaml, create_directories"
   ]
  },
  {
   "cell_type": "code",
   "execution_count": 7,
   "metadata": {},
   "outputs": [],
   "source": [
    "class ConfigurationManager:\n",
    "    def __init__(\n",
    "        self,\n",
    "        config_filepath = CONFIG_FILE_PATH,\n",
    "        params_filepath = PARAMS_FILE_PATH,\n",
    "        schema_filepath = SCHEMA_FILE_PATH):\n",
    "\n",
    "        self.config = read_yaml(config_filepath)\n",
    "        self.params = read_yaml(params_filepath)\n",
    "        self.schema = read_yaml(schema_filepath)\n",
    "\n",
    "        create_directories([self.config.artifacts_root])\n",
    "\n",
    "    def get_data_transformation_config(self) -> DataTransformationConfig:\n",
    "        config = self.config.data_transformation\n",
    "\n",
    "        create_directories([config.root_dir])\n",
    "\n",
    "        data_transformation_config = DataTransformationConfig(\n",
    "            root_dir=config.root_dir,\n",
    "            data_path = config.data_path,\n",
    "        )\n",
    "\n",
    "        return data_transformation_config"
   ]
  },
  {
   "cell_type": "code",
   "execution_count": 8,
   "metadata": {},
   "outputs": [
    {
     "name": "stdout",
     "output_type": "stream",
     "text": [
      "[2023-09-27 07:42:10,324: INFO: utils: NumExpr defaulting to 8 threads.]\n"
     ]
    }
   ],
   "source": [
    "import os\n",
    "from mlProject import logger\n",
    "from sklearn.model_selection import train_test_split\n",
    "import pandas as pd\n",
    "from sklearn.preprocessing import OrdinalEncoder\n",
    "import numpy as np"
   ]
  },
  {
   "cell_type": "code",
   "execution_count": 9,
   "metadata": {},
   "outputs": [],
   "source": [
    "class DataTransformation:\n",
    "    def __init__(self, config: DataTransformationConfig) -> None:\n",
    "        self.config = config\n",
    "    \n",
    "    def train_test_splitting(self):\n",
    "        data = pd.read_csv(self.config.data_path)\n",
    "\n",
    "        # feature engineering for ordinal categorical data        \n",
    "\n",
    "        # Custom mapping\n",
    "        occupation_mapping  = {\n",
    "            'service and sales': 3,\n",
    "            'skilled trades and technical': 2,\n",
    "            'manufacturing and production': 4,\n",
    "            'professional and managerial': 1}\n",
    "\n",
    "\n",
    "        type_of_apartment_mapping = {\n",
    "            'studio apartment': 2,\n",
    "            'one-bedroom apartment': 1,\n",
    "            'two or multi-bedroom apartment': 3}\n",
    "\n",
    "        telephone_mapping = {'yes':1, 'no':0}\n",
    "\n",
    "        foreign_mapping = {'yes':0, 'no':1}\n",
    "        # Sample data\n",
    "\n",
    "        # Transforming ordinal categories with custom mapping\n",
    "        apartment_preprocessed_data = [[type_of_apartment_mapping[category[0]]] for category in data[['type_of_apartment']].values]\n",
    "\n",
    "        occupation_preprocessed_data = [[occupation_mapping[category[0]]] for category in data[['occupation']].values]\n",
    "\n",
    "        telephone_preprocessed_data = [[telephone_mapping[category[0]]] for category in data[['telephone']].values]\n",
    "\n",
    "        foreign_preprocessed_data = [[foreign_mapping[category[0]]] for category in data[['foreign_worker']].values]\n",
    "\n",
    "        combined_ordinal_categories = np.concatenate((apartment_preprocessed_data,occupation_preprocessed_data,\n",
    "                                                    telephone_preprocessed_data,foreign_preprocessed_data),axis=1)\n",
    "\n",
    "        # Use OrdinalEncoder\n",
    "        ordinal_encoder = OrdinalEncoder()\n",
    "        encoded_data = ordinal_encoder.fit_transform(combined_ordinal_categories)\n",
    "\n",
    "        data[['type_of_apartment','occupation','telephone','foreign_worker']] = combined_ordinal_categories\n",
    "\n",
    "        train, test = train_test_split(data, test_size=0.20, random_state=42)\n",
    "        \n",
    "        # save train and test files as CSVs\n",
    "        train.to_csv(os.path.join(self.config.root_dir,'train.csv'),index=False)\n",
    "        test.to_csv(os.path.join(self.config.root_dir,'test.csv'),index=False)\n",
    "\n",
    "        #Log information\n",
    "        logger.info(\"Splitted data into training and test sets\")\n",
    "        logger.info(train.shape)\n",
    "        logger.info(test.shape)\n",
    "\n",
    "        print(train.shape)\n",
    "        print(test.shape)\n"
   ]
  },
  {
   "cell_type": "code",
   "execution_count": 10,
   "metadata": {},
   "outputs": [
    {
     "name": "stdout",
     "output_type": "stream",
     "text": [
      "[2023-09-27 07:42:42,216: INFO: common: yaml file: config\\config.yaml loaded successfully]\n",
      "[2023-09-27 07:42:42,225: INFO: common: yaml file: params.yaml loaded successfully]\n",
      "[2023-09-27 07:42:42,228: INFO: common: yaml file: schema.yaml loaded successfully]\n",
      "[2023-09-27 07:42:42,233: INFO: common: created directory at: artifacts]\n",
      "[2023-09-27 07:42:42,233: INFO: common: created directory at: artifacts/data_transformation]\n"
     ]
    },
    {
     "name": "stdout",
     "output_type": "stream",
     "text": [
      "[2023-09-27 07:42:42,313: INFO: 3114747167: Splitted data into training and test sets]\n",
      "[2023-09-27 07:42:42,313: INFO: 3114747167: (800, 22)]\n",
      "[2023-09-27 07:42:42,313: INFO: 3114747167: (200, 22)]\n",
      "(800, 22)\n",
      "(200, 22)\n"
     ]
    }
   ],
   "source": [
    "try:\n",
    "    config = ConfigurationManager()\n",
    "    data_transformation_config = config.get_data_transformation_config()\n",
    "    data_transformation = DataTransformation(config=data_transformation_config)\n",
    "    data_transformation.train_test_splitting()\n",
    "except Exception as e:\n",
    "    raise e"
   ]
  }
 ],
 "metadata": {
  "kernelspec": {
   "display_name": ".venv",
   "language": "python",
   "name": "python3"
  },
  "language_info": {
   "codemirror_mode": {
    "name": "ipython",
    "version": 3
   },
   "file_extension": ".py",
   "mimetype": "text/x-python",
   "name": "python",
   "nbconvert_exporter": "python",
   "pygments_lexer": "ipython3",
   "version": "3.8.17"
  },
  "orig_nbformat": 4
 },
 "nbformat": 4,
 "nbformat_minor": 2
}
