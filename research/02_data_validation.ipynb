{
 "cells": [
  {
   "cell_type": "code",
   "execution_count": 2,
   "metadata": {},
   "outputs": [],
   "source": [
    "import os"
   ]
  },
  {
   "cell_type": "code",
   "execution_count": 3,
   "metadata": {},
   "outputs": [],
   "source": [
    "os.chdir(\"../\")"
   ]
  },
  {
   "cell_type": "code",
   "execution_count": 4,
   "metadata": {},
   "outputs": [
    {
     "data": {
      "text/plain": [
       "'c:\\\\Users\\\\Hp\\\\Videos\\\\classification implementation - machine learning with MLFlow'"
      ]
     },
     "execution_count": 4,
     "metadata": {},
     "output_type": "execute_result"
    }
   ],
   "source": [
    "%pwd"
   ]
  },
  {
   "cell_type": "code",
   "execution_count": 5,
   "metadata": {},
   "outputs": [],
   "source": [
    "import pandas as pd"
   ]
  },
  {
   "cell_type": "code",
   "execution_count": 6,
   "metadata": {},
   "outputs": [
    {
     "data": {
      "text/html": [
       "<div>\n",
       "<style scoped>\n",
       "    .dataframe tbody tr th:only-of-type {\n",
       "        vertical-align: middle;\n",
       "    }\n",
       "\n",
       "    .dataframe tbody tr th {\n",
       "        vertical-align: top;\n",
       "    }\n",
       "\n",
       "    .dataframe thead th {\n",
       "        text-align: right;\n",
       "    }\n",
       "</style>\n",
       "<table border=\"1\" class=\"dataframe\">\n",
       "  <thead>\n",
       "    <tr style=\"text-align: right;\">\n",
       "      <th></th>\n",
       "      <th>label</th>\n",
       "      <th>credit_duration(month)</th>\n",
       "      <th>credit_amount</th>\n",
       "      <th>duration_of_current_employment</th>\n",
       "      <th>installment_percent</th>\n",
       "      <th>guarantors</th>\n",
       "      <th>duration_in_current_address</th>\n",
       "      <th>age</th>\n",
       "      <th>concurrent_credits</th>\n",
       "      <th>no_of_credits_at_the_bank</th>\n",
       "      <th>no_of_dependents</th>\n",
       "      <th>account_type</th>\n",
       "      <th>payment_status_of_previous_loan</th>\n",
       "      <th>loan_purpose</th>\n",
       "      <th>savings_type</th>\n",
       "      <th>marital_status</th>\n",
       "      <th>most_valuable_asset</th>\n",
       "      <th>type_of_apartment</th>\n",
       "      <th>foreign_worker</th>\n",
       "      <th>occupation</th>\n",
       "    </tr>\n",
       "  </thead>\n",
       "  <tbody>\n",
       "    <tr>\n",
       "      <th>0</th>\n",
       "      <td>0</td>\n",
       "      <td>18</td>\n",
       "      <td>1049</td>\n",
       "      <td>2</td>\n",
       "      <td>4</td>\n",
       "      <td>1</td>\n",
       "      <td>4</td>\n",
       "      <td>21</td>\n",
       "      <td>3</td>\n",
       "      <td>1</td>\n",
       "      <td>1</td>\n",
       "      <td>1</td>\n",
       "      <td>4</td>\n",
       "      <td>2</td>\n",
       "      <td>1</td>\n",
       "      <td>2</td>\n",
       "      <td>2</td>\n",
       "      <td>1</td>\n",
       "      <td>1</td>\n",
       "      <td>3</td>\n",
       "    </tr>\n",
       "    <tr>\n",
       "      <th>1</th>\n",
       "      <td>0</td>\n",
       "      <td>9</td>\n",
       "      <td>2799</td>\n",
       "      <td>3</td>\n",
       "      <td>2</td>\n",
       "      <td>1</td>\n",
       "      <td>2</td>\n",
       "      <td>36</td>\n",
       "      <td>3</td>\n",
       "      <td>2</td>\n",
       "      <td>2</td>\n",
       "      <td>1</td>\n",
       "      <td>4</td>\n",
       "      <td>0</td>\n",
       "      <td>1</td>\n",
       "      <td>3</td>\n",
       "      <td>1</td>\n",
       "      <td>1</td>\n",
       "      <td>1</td>\n",
       "      <td>3</td>\n",
       "    </tr>\n",
       "    <tr>\n",
       "      <th>2</th>\n",
       "      <td>0</td>\n",
       "      <td>12</td>\n",
       "      <td>841</td>\n",
       "      <td>4</td>\n",
       "      <td>2</td>\n",
       "      <td>1</td>\n",
       "      <td>4</td>\n",
       "      <td>23</td>\n",
       "      <td>3</td>\n",
       "      <td>1</td>\n",
       "      <td>1</td>\n",
       "      <td>2</td>\n",
       "      <td>2</td>\n",
       "      <td>9</td>\n",
       "      <td>2</td>\n",
       "      <td>2</td>\n",
       "      <td>1</td>\n",
       "      <td>1</td>\n",
       "      <td>1</td>\n",
       "      <td>2</td>\n",
       "    </tr>\n",
       "    <tr>\n",
       "      <th>3</th>\n",
       "      <td>0</td>\n",
       "      <td>12</td>\n",
       "      <td>2122</td>\n",
       "      <td>3</td>\n",
       "      <td>3</td>\n",
       "      <td>1</td>\n",
       "      <td>2</td>\n",
       "      <td>39</td>\n",
       "      <td>3</td>\n",
       "      <td>2</td>\n",
       "      <td>2</td>\n",
       "      <td>1</td>\n",
       "      <td>4</td>\n",
       "      <td>0</td>\n",
       "      <td>1</td>\n",
       "      <td>3</td>\n",
       "      <td>1</td>\n",
       "      <td>1</td>\n",
       "      <td>2</td>\n",
       "      <td>2</td>\n",
       "    </tr>\n",
       "    <tr>\n",
       "      <th>4</th>\n",
       "      <td>0</td>\n",
       "      <td>12</td>\n",
       "      <td>2171</td>\n",
       "      <td>3</td>\n",
       "      <td>4</td>\n",
       "      <td>1</td>\n",
       "      <td>4</td>\n",
       "      <td>38</td>\n",
       "      <td>1</td>\n",
       "      <td>2</td>\n",
       "      <td>1</td>\n",
       "      <td>1</td>\n",
       "      <td>4</td>\n",
       "      <td>0</td>\n",
       "      <td>1</td>\n",
       "      <td>3</td>\n",
       "      <td>2</td>\n",
       "      <td>2</td>\n",
       "      <td>2</td>\n",
       "      <td>2</td>\n",
       "    </tr>\n",
       "  </tbody>\n",
       "</table>\n",
       "</div>"
      ],
      "text/plain": [
       "   label  credit_duration(month)  credit_amount  \\\n",
       "0      0                      18           1049   \n",
       "1      0                       9           2799   \n",
       "2      0                      12            841   \n",
       "3      0                      12           2122   \n",
       "4      0                      12           2171   \n",
       "\n",
       "   duration_of_current_employment  installment_percent  guarantors  \\\n",
       "0                               2                    4           1   \n",
       "1                               3                    2           1   \n",
       "2                               4                    2           1   \n",
       "3                               3                    3           1   \n",
       "4                               3                    4           1   \n",
       "\n",
       "   duration_in_current_address  age  concurrent_credits  \\\n",
       "0                            4   21                   3   \n",
       "1                            2   36                   3   \n",
       "2                            4   23                   3   \n",
       "3                            2   39                   3   \n",
       "4                            4   38                   1   \n",
       "\n",
       "   no_of_credits_at_the_bank  no_of_dependents  account_type  \\\n",
       "0                          1                 1             1   \n",
       "1                          2                 2             1   \n",
       "2                          1                 1             2   \n",
       "3                          2                 2             1   \n",
       "4                          2                 1             1   \n",
       "\n",
       "   payment_status_of_previous_loan  loan_purpose  savings_type  \\\n",
       "0                                4             2             1   \n",
       "1                                4             0             1   \n",
       "2                                2             9             2   \n",
       "3                                4             0             1   \n",
       "4                                4             0             1   \n",
       "\n",
       "   marital_status  most_valuable_asset  type_of_apartment  foreign_worker  \\\n",
       "0               2                    2                  1               1   \n",
       "1               3                    1                  1               1   \n",
       "2               2                    1                  1               1   \n",
       "3               3                    1                  1               2   \n",
       "4               3                    2                  2               2   \n",
       "\n",
       "   occupation  \n",
       "0           3  \n",
       "1           3  \n",
       "2           2  \n",
       "3           2  \n",
       "4           2  "
      ]
     },
     "execution_count": 6,
     "metadata": {},
     "output_type": "execute_result"
    }
   ],
   "source": [
    "data = pd.read_csv('artifacts/data_ingestion/cleaned_classification.csv')\n",
    "data.head()"
   ]
  },
  {
   "cell_type": "code",
   "execution_count": 7,
   "metadata": {},
   "outputs": [
    {
     "name": "stdout",
     "output_type": "stream",
     "text": [
      "<class 'pandas.core.frame.DataFrame'>\n",
      "RangeIndex: 1000 entries, 0 to 999\n",
      "Data columns (total 20 columns):\n",
      " #   Column                           Non-Null Count  Dtype\n",
      "---  ------                           --------------  -----\n",
      " 0   label                            1000 non-null   int64\n",
      " 1   credit_duration(month)           1000 non-null   int64\n",
      " 2   credit_amount                    1000 non-null   int64\n",
      " 3   duration_of_current_employment   1000 non-null   int64\n",
      " 4   installment_percent              1000 non-null   int64\n",
      " 5   guarantors                       1000 non-null   int64\n",
      " 6   duration_in_current_address      1000 non-null   int64\n",
      " 7   age                              1000 non-null   int64\n",
      " 8   concurrent_credits               1000 non-null   int64\n",
      " 9   no_of_credits_at_the_bank        1000 non-null   int64\n",
      " 10  no_of_dependents                 1000 non-null   int64\n",
      " 11  account_type                     1000 non-null   int64\n",
      " 12  payment_status_of_previous_loan  1000 non-null   int64\n",
      " 13  loan_purpose                     1000 non-null   int64\n",
      " 14  savings_type                     1000 non-null   int64\n",
      " 15  marital_status                   1000 non-null   int64\n",
      " 16  most_valuable_asset              1000 non-null   int64\n",
      " 17  type_of_apartment                1000 non-null   int64\n",
      " 18  foreign_worker                   1000 non-null   int64\n",
      " 19  occupation                       1000 non-null   int64\n",
      "dtypes: int64(20)\n",
      "memory usage: 156.4 KB\n"
     ]
    }
   ],
   "source": [
    "data.info()"
   ]
  },
  {
   "cell_type": "code",
   "execution_count": 16,
   "metadata": {},
   "outputs": [
    {
     "data": {
      "text/plain": [
       "array([4, 2, 3, 0, 1], dtype=int64)"
      ]
     },
     "execution_count": 16,
     "metadata": {},
     "output_type": "execute_result"
    }
   ],
   "source": [
    "data['account_type'].nunique()\n",
    "data['payment_status_of_previous_loan'].unique()"
   ]
  }
 ],
 "metadata": {
  "kernelspec": {
   "display_name": ".venv",
   "language": "python",
   "name": "python3"
  },
  "language_info": {
   "codemirror_mode": {
    "name": "ipython",
    "version": 3
   },
   "file_extension": ".py",
   "mimetype": "text/x-python",
   "name": "python",
   "nbconvert_exporter": "python",
   "pygments_lexer": "ipython3",
   "version": "3.8.17"
  },
  "orig_nbformat": 4
 },
 "nbformat": 4,
 "nbformat_minor": 2
}
